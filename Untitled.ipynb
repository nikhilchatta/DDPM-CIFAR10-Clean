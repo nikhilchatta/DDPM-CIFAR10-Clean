{
 "cells": [
  {
   "cell_type": "code",
   "execution_count": 1,
   "id": "b4de88a6-360a-49e5-b4e2-584701ed9602",
   "metadata": {},
   "outputs": [
    {
     "name": "stdout",
     "output_type": "stream",
     "text": [
      "12.4\n",
      "False\n"
     ]
    }
   ],
   "source": [
    "  import torch\n",
    "  print(torch.version.cuda)  # Displays the CUDA version PyTorch was built with\n",
    "  print(torch.cuda.is_available())  # Checks if CUDA is accessible\n"
   ]
  },
  {
   "cell_type": "code",
   "execution_count": 2,
   "id": "21f2f4cd-7c79-48ea-b077-47c510cf87c9",
   "metadata": {},
   "outputs": [
    {
     "name": "stdout",
     "output_type": "stream",
     "text": [
      "12.4\n"
     ]
    }
   ],
   "source": [
    "import torch\n",
    "print(torch.version.cuda)\n"
   ]
  },
  {
   "cell_type": "code",
   "execution_count": 3,
   "id": "2fb8f94c-2974-462c-b08d-11f59ee2eb02",
   "metadata": {},
   "outputs": [
    {
     "ename": "SyntaxError",
     "evalue": "invalid syntax (1867756367.py, line 1)",
     "output_type": "error",
     "traceback": [
      "\u001b[0;36m  Cell \u001b[0;32mIn [3], line 1\u001b[0;36m\u001b[0m\n\u001b[0;31m    module load cuda/11.3\u001b[0m\n\u001b[0m           ^\u001b[0m\n\u001b[0;31mSyntaxError\u001b[0m\u001b[0;31m:\u001b[0m invalid syntax\n"
     ]
    }
   ],
   "source": [
    "module load cuda/11.3\n",
    "module load pytorch/1.10\n"
   ]
  },
  {
   "cell_type": "code",
   "execution_count": 4,
   "id": "bdc1eeaa-d7d0-417e-93b8-b8925ac2a825",
   "metadata": {},
   "outputs": [
    {
     "ename": "NameError",
     "evalue": "name 'nvidia' is not defined",
     "output_type": "error",
     "traceback": [
      "\u001b[0;31m---------------------------------------------------------------------------\u001b[0m",
      "\u001b[0;31mNameError\u001b[0m                                 Traceback (most recent call last)",
      "Cell \u001b[0;32mIn [4], line 1\u001b[0m\n\u001b[0;32m----> 1\u001b[0m \u001b[43mnvidia\u001b[49m\u001b[38;5;241m-\u001b[39msmi\n",
      "\u001b[0;31mNameError\u001b[0m: name 'nvidia' is not defined"
     ]
    }
   ],
   "source": [
    "nvidia-smi\n"
   ]
  },
  {
   "cell_type": "code",
   "execution_count": 5,
   "id": "b8ef0375-3cf1-4968-8a43-a4eaed6f8a67",
   "metadata": {},
   "outputs": [
    {
     "name": "stdout",
     "output_type": "stream",
     "text": [
      "False\n",
      "0\n"
     ]
    },
    {
     "name": "stderr",
     "output_type": "stream",
     "text": [
      "/users/PFS0270/nikhilchatta/.local/lib/python3.9/site-packages/torch/cuda/__init__.py:716: UserWarning: Can't initialize NVML\n",
      "  warnings.warn(\"Can't initialize NVML\")\n"
     ]
    }
   ],
   "source": [
    "import torch\n",
    "print(torch.cuda.is_available())  # Should return True\n",
    "print(torch.cuda.device_count())  # Should return the number of GPUs allocated\n"
   ]
  },
  {
   "cell_type": "code",
   "execution_count": 6,
   "id": "b900600c-ae02-4a03-afef-fc92d5e9081b",
   "metadata": {},
   "outputs": [
    {
     "name": "stdout",
     "output_type": "stream",
     "text": [
      "12.4\n"
     ]
    }
   ],
   "source": [
    "import torch\n",
    "print(torch.version.cuda)  # Displays the CUDA version PyTorch was built with\n"
   ]
  },
  {
   "cell_type": "code",
   "execution_count": null,
   "id": "9362bd1c-9e3a-4e55-87ab-ef98ad689004",
   "metadata": {},
   "outputs": [],
   "source": []
  }
 ],
 "metadata": {
  "kernelspec": {
   "display_name": "Python 3 (ipykernel)",
   "language": "python",
   "name": "python3"
  },
  "language_info": {
   "codemirror_mode": {
    "name": "ipython",
    "version": 3
   },
   "file_extension": ".py",
   "mimetype": "text/x-python",
   "name": "python",
   "nbconvert_exporter": "python",
   "pygments_lexer": "ipython3",
   "version": "3.9.18"
  }
 },
 "nbformat": 4,
 "nbformat_minor": 5
}
