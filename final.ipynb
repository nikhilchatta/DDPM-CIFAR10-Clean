{
 "cells": [
  {
   "cell_type": "code",
   "execution_count": 2,
   "id": "ad18accb-2adb-450a-8e78-421e4ae6ac2f",
   "metadata": {},
   "outputs": [
    {
     "name": "stdout",
     "output_type": "stream",
     "text": [
      "Cloning into 'DenoisingDiffusionProbabilityModel-ddpm-'...\n",
      "remote: Enumerating objects: 144, done.\u001b[K\n",
      "remote: Counting objects: 100% (58/58), done.\u001b[K\n",
      "remote: Compressing objects: 100% (22/22), done.\u001b[K\n",
      "remote: Total 144 (delta 50), reused 36 (delta 36), pack-reused 86 (from 1)\u001b[K\n",
      "Receiving objects: 100% (144/144), 1.44 MiB | 8.89 MiB/s, done.\n",
      "Resolving deltas: 100% (76/76), done.\n"
     ]
    }
   ],
   "source": [
    "!git clone https://github.com/zoubohao/DenoisingDiffusionProbabilityModel-ddpm-"
   ]
  },
  {
   "cell_type": "code",
   "execution_count": 13,
   "id": "0c85e2a2-8496-4665-a7f3-60c04c7918c3",
   "metadata": {},
   "outputs": [
    {
     "name": "stdout",
     "output_type": "stream",
     "text": [
      "/users/PFS0270/nikhilchatta/DenoisingDiffusionProbabilityModel-ddpm-\n"
     ]
    }
   ],
   "source": [
    "cd DenoisingDiffusionProbabilityModel-ddpm-\n"
   ]
  },
  {
   "cell_type": "code",
   "execution_count": 14,
   "id": "e63b0ed5-4cd7-4dee-878e-0daca8738a08",
   "metadata": {},
   "outputs": [
    {
     "name": "stdout",
     "output_type": "stream",
     "text": [
      "Defaulting to user installation because normal site-packages is not writeable\n",
      "\n",
      "\u001b[1m[\u001b[0m\u001b[34;49mnotice\u001b[0m\u001b[1;39;49m]\u001b[0m\u001b[39;49m A new release of pip is available: \u001b[0m\u001b[31;49m25.0\u001b[0m\u001b[39;49m -> \u001b[0m\u001b[32;49m25.0.1\u001b[0m\n",
      "\u001b[1m[\u001b[0m\u001b[34;49mnotice\u001b[0m\u001b[1;39;49m]\u001b[0m\u001b[39;49m To update, run: \u001b[0m\u001b[32;49mpip install --upgrade pip\u001b[0m\n",
      "\u001b[31mERROR: Could not open requirements file: [Errno 2] No such file or directory: 'requirements.txt'\u001b[0m\u001b[31m\n",
      "\u001b[0mNote: you may need to restart the kernel to use updated packages.\n"
     ]
    }
   ],
   "source": [
    "pip install -r requirements.txt\n"
   ]
  },
  {
   "cell_type": "code",
   "execution_count": 15,
   "id": "20f696fc-e773-4d24-8b4c-55e9a8467bfa",
   "metadata": {},
   "outputs": [
    {
     "name": "stdout",
     "output_type": "stream",
     "text": [
      "Defaulting to user installation because normal site-packages is not writeable\n",
      "Requirement already satisfied: torch in /users/PFS0270/nikhilchatta/.local/lib/python3.9/site-packages (2.5.1)\n",
      "Requirement already satisfied: torchvision in /users/PFS0270/nikhilchatta/.local/lib/python3.9/site-packages (0.20.1)\n",
      "Requirement already satisfied: matplotlib in /users/PFS0270/nikhilchatta/.local/lib/python3.9/site-packages (3.8.4)\n",
      "Requirement already satisfied: tqdm in /users/PFS0270/nikhilchatta/.local/lib/python3.9/site-packages (4.67.0)\n",
      "Requirement already satisfied: filelock in /usr/lib/python3.9/site-packages (from torch) (3.7.1)\n",
      "Requirement already satisfied: typing-extensions>=4.8.0 in /apps/project/ondemand/app_jupyter/4.1.5/lib/python3.9/site-packages (from torch) (4.12.2)\n",
      "Requirement already satisfied: networkx in /users/PFS0270/nikhilchatta/.local/lib/python3.9/site-packages (from torch) (3.2.1)\n",
      "Requirement already satisfied: jinja2 in /apps/project/ondemand/app_jupyter/4.1.5/lib/python3.9/site-packages (from torch) (3.1.5)\n",
      "Requirement already satisfied: fsspec in /users/PFS0270/nikhilchatta/.local/lib/python3.9/site-packages (from torch) (2024.9.0)\n",
      "Requirement already satisfied: nvidia-cuda-nvrtc-cu12==12.4.127 in /users/PFS0270/nikhilchatta/.local/lib/python3.9/site-packages (from torch) (12.4.127)\n",
      "Requirement already satisfied: nvidia-cuda-runtime-cu12==12.4.127 in /users/PFS0270/nikhilchatta/.local/lib/python3.9/site-packages (from torch) (12.4.127)\n",
      "Requirement already satisfied: nvidia-cuda-cupti-cu12==12.4.127 in /users/PFS0270/nikhilchatta/.local/lib/python3.9/site-packages (from torch) (12.4.127)\n",
      "Requirement already satisfied: nvidia-cudnn-cu12==9.1.0.70 in /users/PFS0270/nikhilchatta/.local/lib/python3.9/site-packages (from torch) (9.1.0.70)\n",
      "Requirement already satisfied: nvidia-cublas-cu12==12.4.5.8 in /users/PFS0270/nikhilchatta/.local/lib/python3.9/site-packages (from torch) (12.4.5.8)\n",
      "Requirement already satisfied: nvidia-cufft-cu12==11.2.1.3 in /users/PFS0270/nikhilchatta/.local/lib/python3.9/site-packages (from torch) (11.2.1.3)\n",
      "Requirement already satisfied: nvidia-curand-cu12==10.3.5.147 in /users/PFS0270/nikhilchatta/.local/lib/python3.9/site-packages (from torch) (10.3.5.147)\n",
      "Requirement already satisfied: nvidia-cusolver-cu12==11.6.1.9 in /users/PFS0270/nikhilchatta/.local/lib/python3.9/site-packages (from torch) (11.6.1.9)\n",
      "Requirement already satisfied: nvidia-cusparse-cu12==12.3.1.170 in /users/PFS0270/nikhilchatta/.local/lib/python3.9/site-packages (from torch) (12.3.1.170)\n",
      "Requirement already satisfied: nvidia-nccl-cu12==2.21.5 in /users/PFS0270/nikhilchatta/.local/lib/python3.9/site-packages (from torch) (2.21.5)\n",
      "Requirement already satisfied: nvidia-nvtx-cu12==12.4.127 in /users/PFS0270/nikhilchatta/.local/lib/python3.9/site-packages (from torch) (12.4.127)\n",
      "Requirement already satisfied: nvidia-nvjitlink-cu12==12.4.127 in /users/PFS0270/nikhilchatta/.local/lib/python3.9/site-packages (from torch) (12.4.127)\n",
      "Requirement already satisfied: triton==3.1.0 in /users/PFS0270/nikhilchatta/.local/lib/python3.9/site-packages (from torch) (3.1.0)\n",
      "Requirement already satisfied: sympy==1.13.1 in /users/PFS0270/nikhilchatta/.local/lib/python3.9/site-packages (from torch) (1.13.1)\n",
      "Requirement already satisfied: mpmath<1.4,>=1.1.0 in /users/PFS0270/nikhilchatta/.local/lib/python3.9/site-packages (from sympy==1.13.1->torch) (1.3.0)\n",
      "Requirement already satisfied: numpy in /users/PFS0270/nikhilchatta/.local/lib/python3.9/site-packages (from torchvision) (1.21.6)\n",
      "Requirement already satisfied: pillow!=8.3.*,>=5.3.0 in /usr/lib64/python3.9/site-packages (from torchvision) (10.0.1)\n",
      "Requirement already satisfied: contourpy>=1.0.1 in /users/PFS0270/nikhilchatta/.local/lib/python3.9/site-packages (from matplotlib) (1.2.1)\n",
      "Requirement already satisfied: cycler>=0.10 in /usr/lib/python3.9/site-packages (from matplotlib) (0.11.0)\n",
      "Requirement already satisfied: fonttools>=4.22.0 in /users/PFS0270/nikhilchatta/.local/lib/python3.9/site-packages (from matplotlib) (4.54.1)\n",
      "Requirement already satisfied: kiwisolver>=1.3.1 in /usr/lib64/python3.9/site-packages (from matplotlib) (1.4.1)\n",
      "Requirement already satisfied: packaging>=20.0 in /apps/project/ondemand/app_jupyter/4.1.5/lib/python3.9/site-packages (from matplotlib) (24.2)\n",
      "Requirement already satisfied: pyparsing>=2.3.1 in /usr/lib/python3.9/site-packages (from matplotlib) (2.4.7)\n",
      "Requirement already satisfied: python-dateutil>=2.7 in /apps/project/ondemand/app_jupyter/4.1.5/lib/python3.9/site-packages (from matplotlib) (2.9.0.post0)\n",
      "Requirement already satisfied: importlib-resources>=3.2.0 in /apps/project/ondemand/app_jupyter/4.1.5/lib/python3.9/site-packages (from matplotlib) (6.5.2)\n",
      "Requirement already satisfied: zipp>=3.1.0 in /apps/project/ondemand/app_jupyter/4.1.5/lib/python3.9/site-packages (from importlib-resources>=3.2.0->matplotlib) (3.21.0)\n",
      "Requirement already satisfied: six>=1.5 in /usr/lib/python3.9/site-packages (from python-dateutil>=2.7->matplotlib) (1.15.0)\n",
      "Requirement already satisfied: MarkupSafe>=2.0 in /apps/project/ondemand/app_jupyter/4.1.5/lib/python3.9/site-packages (from jinja2->torch) (3.0.2)\n",
      "\n",
      "\u001b[1m[\u001b[0m\u001b[34;49mnotice\u001b[0m\u001b[1;39;49m]\u001b[0m\u001b[39;49m A new release of pip is available: \u001b[0m\u001b[31;49m25.0\u001b[0m\u001b[39;49m -> \u001b[0m\u001b[32;49m25.0.1\u001b[0m\n",
      "\u001b[1m[\u001b[0m\u001b[34;49mnotice\u001b[0m\u001b[1;39;49m]\u001b[0m\u001b[39;49m To update, run: \u001b[0m\u001b[32;49mpip install --upgrade pip\u001b[0m\n",
      "Note: you may need to restart the kernel to use updated packages.\n"
     ]
    }
   ],
   "source": [
    "pip install torch torchvision matplotlib tqdm\n"
   ]
  },
  {
   "cell_type": "code",
   "execution_count": 16,
   "id": "a938662c-15dc-4cd7-b982-22f37b356ac5",
   "metadata": {},
   "outputs": [],
   "source": [
    "from torchvision.datasets import CIFAR10\n"
   ]
  },
  {
   "cell_type": "code",
   "execution_count": 53,
   "id": "97f2bb83-8238-44e5-9304-2b67e6661118",
   "metadata": {},
   "outputs": [
    {
     "name": "stdout",
     "output_type": "stream",
     "text": [
      "Files already downloaded and verified\n"
     ]
    }
   ],
   "source": [
    "import torchvision.transforms as transforms\n",
    "from torchvision.datasets import CIFAR10\n",
    "from torch.utils.data import DataLoader\n",
    "\n",
    "transform = transforms.Compose([\n",
    "    transforms.ToTensor(),\n",
    "    transforms.Normalize((0.5,), (0.5,)),\n",
    "])\n",
    "\n",
    "train_dataset = CIFAR10(root='./data', train=True, download=True, transform=transform)\n",
    "train_loader = DataLoader(train_dataset, batch_size=64, shuffle=True)\n"
   ]
  },
  {
   "cell_type": "code",
   "execution_count": 54,
   "id": "1dc495b8-dd40-47c7-8c57-538cb03690d3",
   "metadata": {
    "scrolled": true
   },
   "outputs": [
    {
     "name": "stdout",
     "output_type": "stream",
     "text": [
      "Using device: cpu\n",
      "Training on device: cpu\n",
      "Files already downloaded and verified\n",
      "Epoch [1/5], Loss: 2.4760\n",
      "Epoch [2/5], Loss: 0.2712\n",
      "Epoch [3/5], Loss: 0.2398\n",
      "Epoch [4/5], Loss: 0.1480\n",
      "Epoch [5/5], Loss: 0.1736\n",
      "Model saved to: ./Checkpoints/final_model.pt\n"
     ]
    }
   ],
   "source": [
    "!python Main.py\n"
   ]
  },
  {
   "cell_type": "code",
   "execution_count": 57,
   "id": "272cbe09-c91a-4ba6-b741-5f7b5ab17eab",
   "metadata": {},
   "outputs": [
    {
     "name": "stdout",
     "output_type": "stream",
     "text": [
      "Defaulting to user installation because normal site-packages is not writeable\n",
      "Collecting lpips\n",
      "  Downloading lpips-0.1.4-py3-none-any.whl.metadata (10 kB)\n",
      "Requirement already satisfied: torch>=0.4.0 in /users/PFS0270/nikhilchatta/.local/lib/python3.9/site-packages (from lpips) (2.5.1)\n",
      "Requirement already satisfied: torchvision>=0.2.1 in /users/PFS0270/nikhilchatta/.local/lib/python3.9/site-packages (from lpips) (0.20.1)\n",
      "Requirement already satisfied: numpy>=1.14.3 in /users/PFS0270/nikhilchatta/.local/lib/python3.9/site-packages (from lpips) (1.21.6)\n",
      "Requirement already satisfied: scipy>=1.0.1 in /users/PFS0270/nikhilchatta/.local/lib/python3.9/site-packages (from lpips) (1.13.1)\n",
      "Requirement already satisfied: tqdm>=4.28.1 in /users/PFS0270/nikhilchatta/.local/lib/python3.9/site-packages (from lpips) (4.67.0)\n",
      "Collecting numpy>=1.14.3 (from lpips)\n",
      "  Using cached numpy-2.0.2-cp39-cp39-manylinux_2_17_x86_64.manylinux2014_x86_64.whl.metadata (60 kB)\n",
      "Requirement already satisfied: filelock in /usr/lib/python3.9/site-packages (from torch>=0.4.0->lpips) (3.7.1)\n",
      "Requirement already satisfied: typing-extensions>=4.8.0 in /apps/project/ondemand/app_jupyter/4.1.5/lib/python3.9/site-packages (from torch>=0.4.0->lpips) (4.12.2)\n",
      "Requirement already satisfied: networkx in /users/PFS0270/nikhilchatta/.local/lib/python3.9/site-packages (from torch>=0.4.0->lpips) (3.2.1)\n",
      "Requirement already satisfied: jinja2 in /apps/project/ondemand/app_jupyter/4.1.5/lib/python3.9/site-packages (from torch>=0.4.0->lpips) (3.1.5)\n",
      "Requirement already satisfied: fsspec in /users/PFS0270/nikhilchatta/.local/lib/python3.9/site-packages (from torch>=0.4.0->lpips) (2024.9.0)\n",
      "Requirement already satisfied: nvidia-cuda-nvrtc-cu12==12.4.127 in /users/PFS0270/nikhilchatta/.local/lib/python3.9/site-packages (from torch>=0.4.0->lpips) (12.4.127)\n",
      "Requirement already satisfied: nvidia-cuda-runtime-cu12==12.4.127 in /users/PFS0270/nikhilchatta/.local/lib/python3.9/site-packages (from torch>=0.4.0->lpips) (12.4.127)\n",
      "Requirement already satisfied: nvidia-cuda-cupti-cu12==12.4.127 in /users/PFS0270/nikhilchatta/.local/lib/python3.9/site-packages (from torch>=0.4.0->lpips) (12.4.127)\n",
      "Requirement already satisfied: nvidia-cudnn-cu12==9.1.0.70 in /users/PFS0270/nikhilchatta/.local/lib/python3.9/site-packages (from torch>=0.4.0->lpips) (9.1.0.70)\n",
      "Requirement already satisfied: nvidia-cublas-cu12==12.4.5.8 in /users/PFS0270/nikhilchatta/.local/lib/python3.9/site-packages (from torch>=0.4.0->lpips) (12.4.5.8)\n",
      "Requirement already satisfied: nvidia-cufft-cu12==11.2.1.3 in /users/PFS0270/nikhilchatta/.local/lib/python3.9/site-packages (from torch>=0.4.0->lpips) (11.2.1.3)\n",
      "Requirement already satisfied: nvidia-curand-cu12==10.3.5.147 in /users/PFS0270/nikhilchatta/.local/lib/python3.9/site-packages (from torch>=0.4.0->lpips) (10.3.5.147)\n",
      "Requirement already satisfied: nvidia-cusolver-cu12==11.6.1.9 in /users/PFS0270/nikhilchatta/.local/lib/python3.9/site-packages (from torch>=0.4.0->lpips) (11.6.1.9)\n",
      "Requirement already satisfied: nvidia-cusparse-cu12==12.3.1.170 in /users/PFS0270/nikhilchatta/.local/lib/python3.9/site-packages (from torch>=0.4.0->lpips) (12.3.1.170)\n",
      "Requirement already satisfied: nvidia-nccl-cu12==2.21.5 in /users/PFS0270/nikhilchatta/.local/lib/python3.9/site-packages (from torch>=0.4.0->lpips) (2.21.5)\n",
      "Requirement already satisfied: nvidia-nvtx-cu12==12.4.127 in /users/PFS0270/nikhilchatta/.local/lib/python3.9/site-packages (from torch>=0.4.0->lpips) (12.4.127)\n",
      "Requirement already satisfied: nvidia-nvjitlink-cu12==12.4.127 in /users/PFS0270/nikhilchatta/.local/lib/python3.9/site-packages (from torch>=0.4.0->lpips) (12.4.127)\n",
      "Requirement already satisfied: triton==3.1.0 in /users/PFS0270/nikhilchatta/.local/lib/python3.9/site-packages (from torch>=0.4.0->lpips) (3.1.0)\n",
      "Requirement already satisfied: sympy==1.13.1 in /users/PFS0270/nikhilchatta/.local/lib/python3.9/site-packages (from torch>=0.4.0->lpips) (1.13.1)\n",
      "Requirement already satisfied: mpmath<1.4,>=1.1.0 in /users/PFS0270/nikhilchatta/.local/lib/python3.9/site-packages (from sympy==1.13.1->torch>=0.4.0->lpips) (1.3.0)\n",
      "Requirement already satisfied: pillow!=8.3.*,>=5.3.0 in /usr/lib64/python3.9/site-packages (from torchvision>=0.2.1->lpips) (10.0.1)\n",
      "Requirement already satisfied: MarkupSafe>=2.0 in /apps/project/ondemand/app_jupyter/4.1.5/lib/python3.9/site-packages (from jinja2->torch>=0.4.0->lpips) (3.0.2)\n",
      "Downloading lpips-0.1.4-py3-none-any.whl (53 kB)\n",
      "Using cached numpy-2.0.2-cp39-cp39-manylinux_2_17_x86_64.manylinux2014_x86_64.whl (19.5 MB)\n",
      "Installing collected packages: numpy, lpips\n",
      "  Attempting uninstall: numpy\n",
      "    Found existing installation: numpy 1.21.6\n",
      "    Not uninstalling numpy at /users/PFS0270/nikhilchatta/.local/lib/python3.9/site-packages, outside environment /apps/project/ondemand/app_jupyter/4.1.5\n",
      "    Can't uninstall 'numpy'. No files were found to uninstall.\n",
      "\u001b[33m  WARNING: The scripts f2py and numpy-config are installed in '/users/PFS0270/nikhilchatta/.local/bin' which is not on PATH.\n",
      "  Consider adding this directory to PATH or, if you prefer to suppress this warning, use --no-warn-script-location.\u001b[0m\u001b[33m\n",
      "\u001b[0mSuccessfully installed lpips-0.1.4 numpy-1.21.6\n",
      "\n",
      "\u001b[1m[\u001b[0m\u001b[34;49mnotice\u001b[0m\u001b[1;39;49m]\u001b[0m\u001b[39;49m A new release of pip is available: \u001b[0m\u001b[31;49m25.0\u001b[0m\u001b[39;49m -> \u001b[0m\u001b[32;49m25.0.1\u001b[0m\n",
      "\u001b[1m[\u001b[0m\u001b[34;49mnotice\u001b[0m\u001b[1;39;49m]\u001b[0m\u001b[39;49m To update, run: \u001b[0m\u001b[32;49mpip install --upgrade pip\u001b[0m\n",
      "Note: you may need to restart the kernel to use updated packages.\n"
     ]
    }
   ],
   "source": [
    "pip install lpips\n"
   ]
  },
  {
   "cell_type": "code",
   "execution_count": 60,
   "id": "dccdc70e-24b1-442d-899d-ee8cc716f476",
   "metadata": {},
   "outputs": [
    {
     "name": "stderr",
     "output_type": "stream",
     "text": [
      "/tmp/slurmtmp.724782/ipykernel_1879658/572642896.py:14: FutureWarning: You are using `torch.load` with `weights_only=False` (the current default value), which uses the default pickle module implicitly. It is possible to construct malicious pickle data which will execute arbitrary code during unpickling (See https://github.com/pytorch/pytorch/blob/main/SECURITY.md#untrusted-models for more details). In a future release, the default value for `weights_only` will be flipped to `True`. This limits the functions that could be executed during unpickling. Arbitrary objects will no longer be allowed to be loaded via this mode unless they are explicitly allowlisted by the user via `torch.serialization.add_safe_globals`. We recommend you start setting `weights_only=True` for any use case where you don't have full control of the loaded file. Please open an issue on GitHub for any issues related to this experimental feature.\n",
      "  model.load_state_dict(torch.load('./Checkpoints/final_model.pt', map_location=device))\n"
     ]
    },
    {
     "name": "stdout",
     "output_type": "stream",
     "text": [
      "Files already downloaded and verified\n"
     ]
    }
   ],
   "source": [
    "# Cell 1: Shared Setup\n",
    "import torch\n",
    "import torchvision.transforms as transforms\n",
    "from torchvision.datasets import CIFAR10\n",
    "from torch.utils.data import DataLoader\n",
    "import torchvision.utils as vutils\n",
    "import os\n",
    "\n",
    "# Load Model\n",
    "from Diffusion.Unet import UNet\n",
    "\n",
    "device = torch.device(\"cuda\" if torch.cuda.is_available() else \"cpu\")\n",
    "model = UNet()\n",
    "model.load_state_dict(torch.load('./Checkpoints/final_model.pt', map_location=device))\n",
    "model.to(device)\n",
    "model.eval()\n",
    "\n",
    "# Load Data\n",
    "transform = transforms.ToTensor()\n",
    "batch_size = 64\n",
    "real_dataset = CIFAR10(root=\"./CIFAR10\", train=True, download=True, transform=transform)\n",
    "real_loader = DataLoader(real_dataset, batch_size=batch_size, shuffle=True)\n",
    "real_imgs = next(iter(real_loader))[0].to(device)\n",
    "\n",
    "# Generate Fake Images\n",
    "with torch.no_grad():\n",
    "    fake_imgs = model(real_imgs)\n",
    "\n",
    "# Optionally clamp for image-based metrics\n",
    "fake_imgs_clamped = torch.clamp((fake_imgs + 1) / 2, 0, 1)\n",
    "real_imgs_clamped = torch.clamp((real_imgs + 1) / 2, 0, 1)\n"
   ]
  },
  {
   "cell_type": "code",
   "execution_count": 66,
   "id": "01643ee0-81ab-47e5-933d-b6e63c693b32",
   "metadata": {},
   "outputs": [
    {
     "name": "stdout",
     "output_type": "stream",
     "text": [
      "Average SSIM over 20 rounds: 0.9988\n"
     ]
    }
   ],
   "source": [
    "from piq import ssim  # use ssim instead of multi_scale_ssim for 32x32 images\n",
    "\n",
    "ssim_scores = []\n",
    "\n",
    "for _ in range(20):\n",
    "    real_imgs = next(iter(real_loader))[0].to(device)\n",
    "    with torch.no_grad():\n",
    "        fake_imgs = model(real_imgs)\n",
    "\n",
    "    fake_imgs_clamped = torch.clamp((fake_imgs + 1) / 2, 0, 1)\n",
    "    real_imgs_clamped = torch.clamp((real_imgs + 1) / 2, 0, 1)\n",
    "\n",
    "    score = ssim(fake_imgs_clamped, real_imgs_clamped, data_range=1.0).mean().item()\n",
    "    ssim_scores.append(score)\n",
    "\n",
    "avg_ssim = sum(ssim_scores) / len(ssim_scores)\n",
    "print(\"Average SSIM over 20 rounds:\", round(avg_ssim, 4))\n"
   ]
  },
  {
   "cell_type": "code",
   "execution_count": 62,
   "id": "09c6bf9f-8819-4491-9ee6-c73a6e798fab",
   "metadata": {},
   "outputs": [
    {
     "name": "stdout",
     "output_type": "stream",
     "text": [
      "Defaulting to user installation because normal site-packages is not writeable\n",
      "Collecting piq\n",
      "  Downloading piq-0.8.0-py3-none-any.whl.metadata (17 kB)\n",
      "Requirement already satisfied: torchvision>=0.10.0 in /users/PFS0270/nikhilchatta/.local/lib/python3.9/site-packages (from piq) (0.20.1)\n",
      "Requirement already satisfied: numpy in /users/PFS0270/nikhilchatta/.local/lib/python3.9/site-packages (from torchvision>=0.10.0->piq) (1.21.6)\n",
      "Requirement already satisfied: torch==2.5.1 in /users/PFS0270/nikhilchatta/.local/lib/python3.9/site-packages (from torchvision>=0.10.0->piq) (2.5.1)\n",
      "Requirement already satisfied: pillow!=8.3.*,>=5.3.0 in /usr/lib64/python3.9/site-packages (from torchvision>=0.10.0->piq) (10.0.1)\n",
      "Requirement already satisfied: filelock in /usr/lib/python3.9/site-packages (from torch==2.5.1->torchvision>=0.10.0->piq) (3.7.1)\n",
      "Requirement already satisfied: typing-extensions>=4.8.0 in /apps/project/ondemand/app_jupyter/4.1.5/lib/python3.9/site-packages (from torch==2.5.1->torchvision>=0.10.0->piq) (4.12.2)\n",
      "Requirement already satisfied: networkx in /users/PFS0270/nikhilchatta/.local/lib/python3.9/site-packages (from torch==2.5.1->torchvision>=0.10.0->piq) (3.2.1)\n",
      "Requirement already satisfied: jinja2 in /apps/project/ondemand/app_jupyter/4.1.5/lib/python3.9/site-packages (from torch==2.5.1->torchvision>=0.10.0->piq) (3.1.5)\n",
      "Requirement already satisfied: fsspec in /users/PFS0270/nikhilchatta/.local/lib/python3.9/site-packages (from torch==2.5.1->torchvision>=0.10.0->piq) (2024.9.0)\n",
      "Requirement already satisfied: nvidia-cuda-nvrtc-cu12==12.4.127 in /users/PFS0270/nikhilchatta/.local/lib/python3.9/site-packages (from torch==2.5.1->torchvision>=0.10.0->piq) (12.4.127)\n",
      "Requirement already satisfied: nvidia-cuda-runtime-cu12==12.4.127 in /users/PFS0270/nikhilchatta/.local/lib/python3.9/site-packages (from torch==2.5.1->torchvision>=0.10.0->piq) (12.4.127)\n",
      "Requirement already satisfied: nvidia-cuda-cupti-cu12==12.4.127 in /users/PFS0270/nikhilchatta/.local/lib/python3.9/site-packages (from torch==2.5.1->torchvision>=0.10.0->piq) (12.4.127)\n",
      "Requirement already satisfied: nvidia-cudnn-cu12==9.1.0.70 in /users/PFS0270/nikhilchatta/.local/lib/python3.9/site-packages (from torch==2.5.1->torchvision>=0.10.0->piq) (9.1.0.70)\n",
      "Requirement already satisfied: nvidia-cublas-cu12==12.4.5.8 in /users/PFS0270/nikhilchatta/.local/lib/python3.9/site-packages (from torch==2.5.1->torchvision>=0.10.0->piq) (12.4.5.8)\n",
      "Requirement already satisfied: nvidia-cufft-cu12==11.2.1.3 in /users/PFS0270/nikhilchatta/.local/lib/python3.9/site-packages (from torch==2.5.1->torchvision>=0.10.0->piq) (11.2.1.3)\n",
      "Requirement already satisfied: nvidia-curand-cu12==10.3.5.147 in /users/PFS0270/nikhilchatta/.local/lib/python3.9/site-packages (from torch==2.5.1->torchvision>=0.10.0->piq) (10.3.5.147)\n",
      "Requirement already satisfied: nvidia-cusolver-cu12==11.6.1.9 in /users/PFS0270/nikhilchatta/.local/lib/python3.9/site-packages (from torch==2.5.1->torchvision>=0.10.0->piq) (11.6.1.9)\n",
      "Requirement already satisfied: nvidia-cusparse-cu12==12.3.1.170 in /users/PFS0270/nikhilchatta/.local/lib/python3.9/site-packages (from torch==2.5.1->torchvision>=0.10.0->piq) (12.3.1.170)\n",
      "Requirement already satisfied: nvidia-nccl-cu12==2.21.5 in /users/PFS0270/nikhilchatta/.local/lib/python3.9/site-packages (from torch==2.5.1->torchvision>=0.10.0->piq) (2.21.5)\n",
      "Requirement already satisfied: nvidia-nvtx-cu12==12.4.127 in /users/PFS0270/nikhilchatta/.local/lib/python3.9/site-packages (from torch==2.5.1->torchvision>=0.10.0->piq) (12.4.127)\n",
      "Requirement already satisfied: nvidia-nvjitlink-cu12==12.4.127 in /users/PFS0270/nikhilchatta/.local/lib/python3.9/site-packages (from torch==2.5.1->torchvision>=0.10.0->piq) (12.4.127)\n",
      "Requirement already satisfied: triton==3.1.0 in /users/PFS0270/nikhilchatta/.local/lib/python3.9/site-packages (from torch==2.5.1->torchvision>=0.10.0->piq) (3.1.0)\n",
      "Requirement already satisfied: sympy==1.13.1 in /users/PFS0270/nikhilchatta/.local/lib/python3.9/site-packages (from torch==2.5.1->torchvision>=0.10.0->piq) (1.13.1)\n",
      "Requirement already satisfied: mpmath<1.4,>=1.1.0 in /users/PFS0270/nikhilchatta/.local/lib/python3.9/site-packages (from sympy==1.13.1->torch==2.5.1->torchvision>=0.10.0->piq) (1.3.0)\n",
      "Requirement already satisfied: MarkupSafe>=2.0 in /apps/project/ondemand/app_jupyter/4.1.5/lib/python3.9/site-packages (from jinja2->torch==2.5.1->torchvision>=0.10.0->piq) (3.0.2)\n",
      "Downloading piq-0.8.0-py3-none-any.whl (106 kB)\n",
      "Installing collected packages: piq\n",
      "Successfully installed piq-0.8.0\n",
      "\n",
      "\u001b[1m[\u001b[0m\u001b[34;49mnotice\u001b[0m\u001b[1;39;49m]\u001b[0m\u001b[39;49m A new release of pip is available: \u001b[0m\u001b[31;49m25.0\u001b[0m\u001b[39;49m -> \u001b[0m\u001b[32;49m25.0.1\u001b[0m\n",
      "\u001b[1m[\u001b[0m\u001b[34;49mnotice\u001b[0m\u001b[1;39;49m]\u001b[0m\u001b[39;49m To update, run: \u001b[0m\u001b[32;49mpip install --upgrade pip\u001b[0m\n"
     ]
    }
   ],
   "source": [
    "!pip install piq\n"
   ]
  },
  {
   "cell_type": "code",
   "execution_count": 67,
   "id": "53cb13b8-abd4-4056-9b8f-e3878746daa5",
   "metadata": {},
   "outputs": [
    {
     "name": "stdout",
     "output_type": "stream",
     "text": [
      "Average PSNR over 20 rounds: 39.0722\n"
     ]
    }
   ],
   "source": [
    "def calculate_psnr(img1, img2):\n",
    "    mse = torch.mean((img1 - img2) ** 2)\n",
    "    if mse == 0:\n",
    "        return float('inf')\n",
    "    psnr = 20 * torch.log10(1.0 / torch.sqrt(mse))\n",
    "    return psnr.item()\n",
    "\n",
    "psnr_scores = []\n",
    "\n",
    "for _ in range(20):\n",
    "    real_imgs = next(iter(real_loader))[0].to(device)\n",
    "    with torch.no_grad():\n",
    "        fake_imgs = model(real_imgs)\n",
    "\n",
    "    score = calculate_psnr(fake_imgs, real_imgs)\n",
    "    psnr_scores.append(score)\n",
    "\n",
    "avg_psnr = sum(psnr_scores) / len(psnr_scores)\n",
    "print(\"Average PSNR over 20 rounds:\", round(avg_psnr, 4))\n"
   ]
  },
  {
   "cell_type": "code",
   "execution_count": 79,
   "id": "0c7efee5-66cb-4dc9-9cb2-3812e5920d36",
   "metadata": {},
   "outputs": [
    {
     "name": "stderr",
     "output_type": "stream",
     "text": [
      "/users/PFS0270/nikhilchatta/.local/lib/python3.9/site-packages/torchvision/models/_utils.py:208: UserWarning: The parameter 'pretrained' is deprecated since 0.13 and may be removed in the future, please use 'weights' instead.\n",
      "  warnings.warn(\n",
      "/users/PFS0270/nikhilchatta/.local/lib/python3.9/site-packages/torchvision/models/_utils.py:223: UserWarning: Arguments other than a weight enum or `None` for 'weights' are deprecated since 0.13 and may be removed in the future. The current behavior is equivalent to passing `weights=VGG16_Weights.IMAGENET1K_V1`. You can also use `weights=VGG16_Weights.DEFAULT` to get the most up-to-date weights.\n",
      "  warnings.warn(msg)\n",
      "Downloading: \"https://download.pytorch.org/models/vgg16-397923af.pth\" to /users/PFS0270/nikhilchatta/.cache/torch/hub/checkpoints/vgg16-397923af.pth\n",
      "100%|██████████| 528M/528M [00:01<00:00, 432MB/s] \n"
     ]
    },
    {
     "name": "stdout",
     "output_type": "stream",
     "text": [
      "Average Perceptual Similarity (VGG-based) over 20 rounds: 0.0234\n"
     ]
    }
   ],
   "source": [
    "# Perceptual Similarity using VGG features (alternative to LPIPS)\n",
    "import torch.nn.functional as F\n",
    "from torchvision.models import vgg16\n",
    "from torchvision import models\n",
    "\n",
    "# Extract intermediate features from VGG\n",
    "class VGGPerceptual(torch.nn.Module):\n",
    "    def __init__(self):\n",
    "        super(VGGPerceptual, self).__init__()\n",
    "        vgg = vgg16(pretrained=True).features[:16]  # up to relu_3_3\n",
    "        self.vgg = vgg.eval().to(device)\n",
    "        for param in self.vgg.parameters():\n",
    "            param.requires_grad = False\n",
    "\n",
    "    def forward(self, x):\n",
    "        return self.vgg(x)\n",
    "\n",
    "vgg_perceptual = VGGPerceptual()\n",
    "\n",
    "def perceptual_distance(x, y):\n",
    "    fx = vgg_perceptual(x)\n",
    "    fy = vgg_perceptual(y)\n",
    "    return F.l1_loss(fx, fy).item()\n",
    "\n",
    "perceptual_scores = []\n",
    "\n",
    "for _ in range(20):\n",
    "    real_imgs = next(iter(real_loader))[0].to(device)\n",
    "    with torch.no_grad():\n",
    "        fake_imgs = model(real_imgs)\n",
    "\n",
    "    # Resize to 224x224 for VGG input\n",
    "    real_resized = F.interpolate(real_imgs, size=(224, 224), mode='bilinear')\n",
    "    fake_resized = F.interpolate(fake_imgs, size=(224, 224), mode='bilinear')\n",
    "\n",
    "    score = perceptual_distance(real_resized, fake_resized)\n",
    "    perceptual_scores.append(score)\n",
    "\n",
    "avg_perceptual = sum(perceptual_scores) / len(perceptual_scores)\n",
    "print(\"Average Perceptual Similarity (VGG-based) over 20 rounds:\", round(avg_perceptual, 4))\n"
   ]
  },
  {
   "cell_type": "code",
   "execution_count": 32,
   "id": "14e3468a-f158-4830-8aa7-b91e34267149",
   "metadata": {},
   "outputs": [
    {
     "ename": "NameError",
     "evalue": "name 'real_loader' is not defined",
     "output_type": "error",
     "traceback": [
      "\u001b[0;31m---------------------------------------------------------------------------\u001b[0m",
      "\u001b[0;31mNameError\u001b[0m                                 Traceback (most recent call last)",
      "Cell \u001b[0;32mIn [32], line 10\u001b[0m\n\u001b[1;32m      8\u001b[0m \u001b[38;5;66;03m# Generate and export images\u001b[39;00m\n\u001b[1;32m      9\u001b[0m \u001b[38;5;28;01mfor\u001b[39;00m i \u001b[38;5;129;01min\u001b[39;00m \u001b[38;5;28mrange\u001b[39m(\u001b[38;5;241m20\u001b[39m):  \u001b[38;5;66;03m# 20 rounds/batches\u001b[39;00m\n\u001b[0;32m---> 10\u001b[0m     real_imgs \u001b[38;5;241m=\u001b[39m \u001b[38;5;28mnext\u001b[39m(\u001b[38;5;28miter\u001b[39m(\u001b[43mreal_loader\u001b[49m))[\u001b[38;5;241m0\u001b[39m]\u001b[38;5;241m.\u001b[39mto(device)\n\u001b[1;32m     11\u001b[0m     \u001b[38;5;28;01mwith\u001b[39;00m torch\u001b[38;5;241m.\u001b[39mno_grad():\n\u001b[1;32m     12\u001b[0m         fake_imgs \u001b[38;5;241m=\u001b[39m model(real_imgs)\n",
      "\u001b[0;31mNameError\u001b[0m: name 'real_loader' is not defined"
     ]
    }
   ],
   "source": [
    "# Create folders\n",
    "import os\n",
    "import torchvision.utils as vutils\n",
    "\n",
    "os.makedirs(\"./Exported_FID/Real\", exist_ok=True)\n",
    "os.makedirs(\"./Exported_FID/Fake\", exist_ok=True)\n",
    "\n",
    "# Generate and export images\n",
    "for i in range(20):  # 20 rounds/batches\n",
    "    real_imgs = next(iter(real_loader))[0].to(device)\n",
    "    with torch.no_grad():\n",
    "        fake_imgs = model(real_imgs)\n",
    "\n",
    "    # Clamp to [0, 1] for FID\n",
    "    real_clamped = torch.clamp((real_imgs + 1) / 2, 0, 1)\n",
    "    fake_clamped = torch.clamp((fake_imgs + 1) / 2, 0, 1)\n",
    "\n",
    "    for j in range(real_clamped.shape[0]):\n",
    "        vutils.save_image(real_clamped[j], f\"./Exported_FID/Real/real_{i}_{j}.png\")\n",
    "        vutils.save_image(fake_clamped[j], f\"./Exported_FID/Fake/fake_{i}_{j}.png\")\n",
    "\n",
    "print(\"Exported 20 batches of real/fake images for FID computation.\")\n"
   ]
  },
  {
   "cell_type": "code",
   "execution_count": 84,
   "id": "1a5786eb-22a2-405a-b2ec-96326878923d",
   "metadata": {},
   "outputs": [
    {
     "name": "stdout",
     "output_type": "stream",
     "text": [
      "Defaulting to user installation because normal site-packages is not writeable\n",
      "Requirement already satisfied: pytorch-fid in /users/PFS0270/nikhilchatta/.local/lib/python3.9/site-packages (0.3.0)\n",
      "Requirement already satisfied: numpy in /users/PFS0270/nikhilchatta/.local/lib/python3.9/site-packages (from pytorch-fid) (1.21.6)\n",
      "Requirement already satisfied: pillow in /usr/lib64/python3.9/site-packages (from pytorch-fid) (10.0.1)\n",
      "Requirement already satisfied: scipy in /users/PFS0270/nikhilchatta/.local/lib/python3.9/site-packages (from pytorch-fid) (1.13.1)\n",
      "Requirement already satisfied: torch>=1.0.1 in /users/PFS0270/nikhilchatta/.local/lib/python3.9/site-packages (from pytorch-fid) (2.5.1)\n",
      "Requirement already satisfied: torchvision>=0.2.2 in /users/PFS0270/nikhilchatta/.local/lib/python3.9/site-packages (from pytorch-fid) (0.20.1)\n",
      "Requirement already satisfied: filelock in /usr/lib/python3.9/site-packages (from torch>=1.0.1->pytorch-fid) (3.7.1)\n",
      "Requirement already satisfied: typing-extensions>=4.8.0 in /apps/project/ondemand/app_jupyter/4.1.5/lib/python3.9/site-packages (from torch>=1.0.1->pytorch-fid) (4.12.2)\n",
      "Requirement already satisfied: networkx in /users/PFS0270/nikhilchatta/.local/lib/python3.9/site-packages (from torch>=1.0.1->pytorch-fid) (3.2.1)\n",
      "Requirement already satisfied: jinja2 in /apps/project/ondemand/app_jupyter/4.1.5/lib/python3.9/site-packages (from torch>=1.0.1->pytorch-fid) (3.1.5)\n",
      "Requirement already satisfied: fsspec in /users/PFS0270/nikhilchatta/.local/lib/python3.9/site-packages (from torch>=1.0.1->pytorch-fid) (2024.9.0)\n",
      "Requirement already satisfied: nvidia-cuda-nvrtc-cu12==12.4.127 in /users/PFS0270/nikhilchatta/.local/lib/python3.9/site-packages (from torch>=1.0.1->pytorch-fid) (12.4.127)\n",
      "Requirement already satisfied: nvidia-cuda-runtime-cu12==12.4.127 in /users/PFS0270/nikhilchatta/.local/lib/python3.9/site-packages (from torch>=1.0.1->pytorch-fid) (12.4.127)\n",
      "Requirement already satisfied: nvidia-cuda-cupti-cu12==12.4.127 in /users/PFS0270/nikhilchatta/.local/lib/python3.9/site-packages (from torch>=1.0.1->pytorch-fid) (12.4.127)\n",
      "Requirement already satisfied: nvidia-cudnn-cu12==9.1.0.70 in /users/PFS0270/nikhilchatta/.local/lib/python3.9/site-packages (from torch>=1.0.1->pytorch-fid) (9.1.0.70)\n",
      "Requirement already satisfied: nvidia-cublas-cu12==12.4.5.8 in /users/PFS0270/nikhilchatta/.local/lib/python3.9/site-packages (from torch>=1.0.1->pytorch-fid) (12.4.5.8)\n",
      "Requirement already satisfied: nvidia-cufft-cu12==11.2.1.3 in /users/PFS0270/nikhilchatta/.local/lib/python3.9/site-packages (from torch>=1.0.1->pytorch-fid) (11.2.1.3)\n",
      "Requirement already satisfied: nvidia-curand-cu12==10.3.5.147 in /users/PFS0270/nikhilchatta/.local/lib/python3.9/site-packages (from torch>=1.0.1->pytorch-fid) (10.3.5.147)\n",
      "Requirement already satisfied: nvidia-cusolver-cu12==11.6.1.9 in /users/PFS0270/nikhilchatta/.local/lib/python3.9/site-packages (from torch>=1.0.1->pytorch-fid) (11.6.1.9)\n",
      "Requirement already satisfied: nvidia-cusparse-cu12==12.3.1.170 in /users/PFS0270/nikhilchatta/.local/lib/python3.9/site-packages (from torch>=1.0.1->pytorch-fid) (12.3.1.170)\n",
      "Requirement already satisfied: nvidia-nccl-cu12==2.21.5 in /users/PFS0270/nikhilchatta/.local/lib/python3.9/site-packages (from torch>=1.0.1->pytorch-fid) (2.21.5)\n",
      "Requirement already satisfied: nvidia-nvtx-cu12==12.4.127 in /users/PFS0270/nikhilchatta/.local/lib/python3.9/site-packages (from torch>=1.0.1->pytorch-fid) (12.4.127)\n",
      "Requirement already satisfied: nvidia-nvjitlink-cu12==12.4.127 in /users/PFS0270/nikhilchatta/.local/lib/python3.9/site-packages (from torch>=1.0.1->pytorch-fid) (12.4.127)\n",
      "Requirement already satisfied: triton==3.1.0 in /users/PFS0270/nikhilchatta/.local/lib/python3.9/site-packages (from torch>=1.0.1->pytorch-fid) (3.1.0)\n",
      "Requirement already satisfied: sympy==1.13.1 in /users/PFS0270/nikhilchatta/.local/lib/python3.9/site-packages (from torch>=1.0.1->pytorch-fid) (1.13.1)\n",
      "Requirement already satisfied: mpmath<1.4,>=1.1.0 in /users/PFS0270/nikhilchatta/.local/lib/python3.9/site-packages (from sympy==1.13.1->torch>=1.0.1->pytorch-fid) (1.3.0)\n",
      "Collecting numpy (from pytorch-fid)\n",
      "  Using cached numpy-2.0.2-cp39-cp39-manylinux_2_17_x86_64.manylinux2014_x86_64.whl.metadata (60 kB)\n",
      "Requirement already satisfied: MarkupSafe>=2.0 in /apps/project/ondemand/app_jupyter/4.1.5/lib/python3.9/site-packages (from jinja2->torch>=1.0.1->pytorch-fid) (3.0.2)\n",
      "Using cached numpy-2.0.2-cp39-cp39-manylinux_2_17_x86_64.manylinux2014_x86_64.whl (19.5 MB)\n",
      "Installing collected packages: numpy\n",
      "  Attempting uninstall: numpy\n",
      "    Found existing installation: numpy 1.21.6\n",
      "    Not uninstalling numpy at /users/PFS0270/nikhilchatta/.local/lib/python3.9/site-packages, outside environment /apps/project/ondemand/app_jupyter/4.1.5\n",
      "    Can't uninstall 'numpy'. No files were found to uninstall.\n",
      "\u001b[33m  WARNING: The scripts f2py and numpy-config are installed in '/users/PFS0270/nikhilchatta/.local/bin' which is not on PATH.\n",
      "  Consider adding this directory to PATH or, if you prefer to suppress this warning, use --no-warn-script-location.\u001b[0m\u001b[33m\n",
      "\u001b[0mSuccessfully installed numpy-1.21.6\n",
      "\n",
      "\u001b[1m[\u001b[0m\u001b[34;49mnotice\u001b[0m\u001b[1;39;49m]\u001b[0m\u001b[39;49m A new release of pip is available: \u001b[0m\u001b[31;49m25.0\u001b[0m\u001b[39;49m -> \u001b[0m\u001b[32;49m25.0.1\u001b[0m\n",
      "\u001b[1m[\u001b[0m\u001b[34;49mnotice\u001b[0m\u001b[1;39;49m]\u001b[0m\u001b[39;49m To update, run: \u001b[0m\u001b[32;49mpip install --upgrade pip\u001b[0m\n"
     ]
    }
   ],
   "source": [
    "!pip install pytorch-fid\n"
   ]
  },
  {
   "cell_type": "code",
   "execution_count": 86,
   "id": "3ab85f9c-1e52-49ee-ac9e-b46d59f86035",
   "metadata": {},
   "outputs": [
    {
     "name": "stdout",
     "output_type": "stream",
     "text": [
      "Exported all images.\n"
     ]
    }
   ],
   "source": [
    "import os\n",
    "import torchvision.utils as vutils\n",
    "\n",
    "os.makedirs(\"./Exported_FID/Real\", exist_ok=True)\n",
    "os.makedirs(\"./Exported_FID/Fake\", exist_ok=True)\n",
    "\n",
    "for i in range(20):\n",
    "    real_imgs = next(iter(real_loader))[0].to(device)\n",
    "    with torch.no_grad():\n",
    "        fake_imgs = model(real_imgs)\n",
    "\n",
    "    real_clamped = torch.clamp((real_imgs + 1) / 2, 0, 1)\n",
    "    fake_clamped = torch.clamp((fake_imgs + 1) / 2, 0, 1)\n",
    "\n",
    "    for j in range(real_clamped.shape[0]):\n",
    "        vutils.save_image(real_clamped[j], f\"./Exported_FID/Real/real_{i}_{j}.png\")\n",
    "        vutils.save_image(fake_clamped[j], f\"./Exported_FID/Fake/fake_{i}_{j}.png\")\n",
    "\n",
    "print(\"Exported all images.\")\n"
   ]
  },
  {
   "cell_type": "code",
   "execution_count": 87,
   "id": "9fa9f9f3-a9b4-4f9c-8958-782d2eacf95e",
   "metadata": {},
   "outputs": [
    {
     "data": {
      "text/plain": [
       "['.git',\n",
       " '.gitignore',\n",
       " 'CIFAR10',\n",
       " 'Checkpoints',\n",
       " 'CheckpointsCondition',\n",
       " 'Diffusion',\n",
       " 'DiffusionFreeGuidence',\n",
       " 'LICENSE',\n",
       " 'Main.py',\n",
       " 'MainCondition.py',\n",
       " 'README.md',\n",
       " 'SampledImgs',\n",
       " 'Scheduler.py',\n",
       " 'data',\n",
       " '.ipynb_checkpoints',\n",
       " '__pycache__',\n",
       " 'Untitled.ipynb',\n",
       " 'Untitled1.ipynb',\n",
       " 'Exported_FID']"
      ]
     },
     "execution_count": 87,
     "metadata": {},
     "output_type": "execute_result"
    }
   ],
   "source": [
    "import os\n",
    "os.listdir(\".\")\n"
   ]
  },
  {
   "cell_type": "code",
   "execution_count": 88,
   "id": "71b93e65-155e-4558-a9dd-fdf7044eafa1",
   "metadata": {},
   "outputs": [
    {
     "name": "stdout",
     "output_type": "stream",
     "text": [
      "Full path to Exported_FID folder: /users/PFS0270/nikhilchatta/DenoisingDiffusionProbabilityModel-ddpm-/Exported_FID\n",
      "Contents of Exported_FID folder:\n",
      "['Real', 'Fake', '.ipynb_checkpoints']\n"
     ]
    }
   ],
   "source": [
    "import os\n",
    "\n",
    "# Print full absolute path\n",
    "export_folder = os.path.abspath(\"Exported_FID\")\n",
    "print(\"Full path to Exported_FID folder:\", export_folder)\n",
    "\n",
    "# List contents to make sure it’s accessible\n",
    "print(\"Contents of Exported_FID folder:\")\n",
    "print(os.listdir(export_folder))\n"
   ]
  },
  {
   "cell_type": "code",
   "execution_count": 27,
   "id": "82094bb1-92d1-4946-8ea3-0992b100a807",
   "metadata": {},
   "outputs": [
    {
     "ename": "KeyboardInterrupt",
     "evalue": "",
     "output_type": "error",
     "traceback": [
      "\u001b[0;31m---------------------------------------------------------------------------\u001b[0m",
      "\u001b[0;31mKeyboardInterrupt\u001b[0m                         Traceback (most recent call last)",
      "Cell \u001b[0;32mIn [27], line 4\u001b[0m\n\u001b[1;32m      1\u001b[0m \u001b[38;5;28;01mimport\u001b[39;00m \u001b[38;5;21;01mshutil\u001b[39;00m\n\u001b[1;32m      3\u001b[0m \u001b[38;5;66;03m# Zip Exported_FID folder inside current directory\u001b[39;00m\n\u001b[0;32m----> 4\u001b[0m \u001b[43mshutil\u001b[49m\u001b[38;5;241;43m.\u001b[39;49m\u001b[43mmake_archive\u001b[49m\u001b[43m(\u001b[49m\u001b[38;5;124;43m'\u001b[39;49m\u001b[38;5;124;43mExported_FID\u001b[39;49m\u001b[38;5;124;43m'\u001b[39;49m\u001b[43m,\u001b[49m\u001b[43m \u001b[49m\u001b[38;5;124;43m'\u001b[39;49m\u001b[38;5;124;43mzip\u001b[39;49m\u001b[38;5;124;43m'\u001b[39;49m\u001b[43m,\u001b[49m\u001b[43m \u001b[49m\u001b[38;5;124;43m'\u001b[39;49m\u001b[38;5;124;43m./Exported_FID\u001b[39;49m\u001b[38;5;124;43m'\u001b[39;49m\u001b[43m)\u001b[49m\n",
      "File \u001b[0;32m/usr/lib64/python3.9/shutil.py:1093\u001b[0m, in \u001b[0;36mmake_archive\u001b[0;34m(base_name, format, root_dir, base_dir, verbose, dry_run, owner, group, logger)\u001b[0m\n\u001b[1;32m   1090\u001b[0m     kwargs[\u001b[38;5;124m'\u001b[39m\u001b[38;5;124mgroup\u001b[39m\u001b[38;5;124m'\u001b[39m] \u001b[38;5;241m=\u001b[39m group\n\u001b[1;32m   1092\u001b[0m \u001b[38;5;28;01mtry\u001b[39;00m:\n\u001b[0;32m-> 1093\u001b[0m     filename \u001b[38;5;241m=\u001b[39m \u001b[43mfunc\u001b[49m\u001b[43m(\u001b[49m\u001b[43mbase_name\u001b[49m\u001b[43m,\u001b[49m\u001b[43m \u001b[49m\u001b[43mbase_dir\u001b[49m\u001b[43m,\u001b[49m\u001b[43m \u001b[49m\u001b[38;5;241;43m*\u001b[39;49m\u001b[38;5;241;43m*\u001b[39;49m\u001b[43mkwargs\u001b[49m\u001b[43m)\u001b[49m\n\u001b[1;32m   1094\u001b[0m \u001b[38;5;28;01mfinally\u001b[39;00m:\n\u001b[1;32m   1095\u001b[0m     \u001b[38;5;28;01mif\u001b[39;00m root_dir \u001b[38;5;129;01mis\u001b[39;00m \u001b[38;5;129;01mnot\u001b[39;00m \u001b[38;5;28;01mNone\u001b[39;00m:\n",
      "File \u001b[0;32m/usr/lib64/python3.9/shutil.py:990\u001b[0m, in \u001b[0;36m_make_zipfile\u001b[0;34m(base_name, base_dir, verbose, dry_run, logger)\u001b[0m\n\u001b[1;32m    988\u001b[0m path \u001b[38;5;241m=\u001b[39m os\u001b[38;5;241m.\u001b[39mpath\u001b[38;5;241m.\u001b[39mnormpath(os\u001b[38;5;241m.\u001b[39mpath\u001b[38;5;241m.\u001b[39mjoin(dirpath, name))\n\u001b[1;32m    989\u001b[0m \u001b[38;5;28;01mif\u001b[39;00m os\u001b[38;5;241m.\u001b[39mpath\u001b[38;5;241m.\u001b[39misfile(path):\n\u001b[0;32m--> 990\u001b[0m     \u001b[43mzf\u001b[49m\u001b[38;5;241;43m.\u001b[39;49m\u001b[43mwrite\u001b[49m\u001b[43m(\u001b[49m\u001b[43mpath\u001b[49m\u001b[43m,\u001b[49m\u001b[43m \u001b[49m\u001b[43mpath\u001b[49m\u001b[43m)\u001b[49m\n\u001b[1;32m    991\u001b[0m     \u001b[38;5;28;01mif\u001b[39;00m logger \u001b[38;5;129;01mis\u001b[39;00m \u001b[38;5;129;01mnot\u001b[39;00m \u001b[38;5;28;01mNone\u001b[39;00m:\n\u001b[1;32m    992\u001b[0m         logger\u001b[38;5;241m.\u001b[39minfo(\u001b[38;5;124m\"\u001b[39m\u001b[38;5;124madding \u001b[39m\u001b[38;5;124m'\u001b[39m\u001b[38;5;132;01m%s\u001b[39;00m\u001b[38;5;124m'\u001b[39m\u001b[38;5;124m\"\u001b[39m, path)\n",
      "File \u001b[0;32m/usr/lib64/python3.9/zipfile.py:1784\u001b[0m, in \u001b[0;36mZipFile.write\u001b[0;34m(self, filename, arcname, compress_type, compresslevel)\u001b[0m\n\u001b[1;32m   1782\u001b[0m \u001b[38;5;28;01melse\u001b[39;00m:\n\u001b[1;32m   1783\u001b[0m     \u001b[38;5;28;01mwith\u001b[39;00m \u001b[38;5;28mopen\u001b[39m(filename, \u001b[38;5;124m\"\u001b[39m\u001b[38;5;124mrb\u001b[39m\u001b[38;5;124m\"\u001b[39m) \u001b[38;5;28;01mas\u001b[39;00m src, \u001b[38;5;28mself\u001b[39m\u001b[38;5;241m.\u001b[39mopen(zinfo, \u001b[38;5;124m'\u001b[39m\u001b[38;5;124mw\u001b[39m\u001b[38;5;124m'\u001b[39m) \u001b[38;5;28;01mas\u001b[39;00m dest:\n\u001b[0;32m-> 1784\u001b[0m         \u001b[43mshutil\u001b[49m\u001b[38;5;241;43m.\u001b[39;49m\u001b[43mcopyfileobj\u001b[49m\u001b[43m(\u001b[49m\u001b[43msrc\u001b[49m\u001b[43m,\u001b[49m\u001b[43m \u001b[49m\u001b[43mdest\u001b[49m\u001b[43m,\u001b[49m\u001b[43m \u001b[49m\u001b[38;5;241;43m1024\u001b[39;49m\u001b[38;5;241;43m*\u001b[39;49m\u001b[38;5;241;43m8\u001b[39;49m\u001b[43m)\u001b[49m\n",
      "File \u001b[0;32m/usr/lib64/python3.9/shutil.py:205\u001b[0m, in \u001b[0;36mcopyfileobj\u001b[0;34m(fsrc, fdst, length)\u001b[0m\n\u001b[1;32m    203\u001b[0m fdst_write \u001b[38;5;241m=\u001b[39m fdst\u001b[38;5;241m.\u001b[39mwrite\n\u001b[1;32m    204\u001b[0m \u001b[38;5;28;01mwhile\u001b[39;00m \u001b[38;5;28;01mTrue\u001b[39;00m:\n\u001b[0;32m--> 205\u001b[0m     buf \u001b[38;5;241m=\u001b[39m \u001b[43mfsrc_read\u001b[49m\u001b[43m(\u001b[49m\u001b[43mlength\u001b[49m\u001b[43m)\u001b[49m\n\u001b[1;32m    206\u001b[0m     \u001b[38;5;28;01mif\u001b[39;00m \u001b[38;5;129;01mnot\u001b[39;00m buf:\n\u001b[1;32m    207\u001b[0m         \u001b[38;5;28;01mbreak\u001b[39;00m\n",
      "\u001b[0;31mKeyboardInterrupt\u001b[0m: "
     ]
    }
   ],
   "source": [
    "import shutil\n",
    "\n",
    "# Zip Exported_FID folder inside current directory\n",
    "shutil.make_archive('Exported_FID', 'zip', './Exported_FID')\n"
   ]
  },
  {
   "cell_type": "code",
   "execution_count": 1,
   "id": "17bc7ed1-fc1f-4c50-afff-f719844792bf",
   "metadata": {},
   "outputs": [
    {
     "name": "stdout",
     "output_type": "stream",
     "text": [
      "\u001b[0m\u001b[01;34mdata\u001b[0m/                                      final.ipynb  \u001b[01;34mstatus\u001b[0m/\n",
      "\u001b[01;34mDenoisingClean\u001b[0m/                            \u001b[01;34mmy-project\u001b[0m/\n",
      "\u001b[01;34mDenoisingDiffusionProbabilityModel-ddpm-\u001b[0m/  \u001b[01;34mondemand\u001b[0m/\n"
     ]
    }
   ],
   "source": [
    "ls\n"
   ]
  },
  {
   "cell_type": "code",
   "execution_count": null,
   "id": "8fd65c3d-4d34-4de3-aca4-ce55ab2a294b",
   "metadata": {},
   "outputs": [],
   "source": []
  }
 ],
 "metadata": {
  "kernelspec": {
   "display_name": "Python 3 (ipykernel)",
   "language": "python",
   "name": "python3"
  },
  "language_info": {
   "codemirror_mode": {
    "name": "ipython",
    "version": 3
   },
   "file_extension": ".py",
   "mimetype": "text/x-python",
   "name": "python",
   "nbconvert_exporter": "python",
   "pygments_lexer": "ipython3",
   "version": "3.9.18"
  }
 },
 "nbformat": 4,
 "nbformat_minor": 5
}
